{
 "cells": [
  {
   "cell_type": "code",
   "execution_count": 1,
   "id": "8364d9ec-809b-4b71-a12d-0fa4d5ca7c4c",
   "metadata": {},
   "outputs": [],
   "source": [
    "# Imports\n",
    "from pyspark.sql.types import StructType, StructField, IntegerType, StringType, FloatType\n",
    "from pyspark.sql import SparkSession\n",
    "from pyspark import SparkConf\n",
    "from pyspark.sql.functions import col, dense_rank, coalesce\n",
    "from pyspark.sql import Row, Window"
   ]
  },
  {
   "cell_type": "code",
   "execution_count": 2,
   "id": "256a06e8-5c19-493f-b597-b21467b7d585",
   "metadata": {},
   "outputs": [],
   "source": [
    "sparkConf = SparkConf()\n",
    "sparkConf.setMaster(\"spark://spark-master:7077\") # Do not change\n",
    "sparkConf.setAppName(\"pipeline_1_app\") # Change to app name\n",
    "sparkConf.set(\"spark.driver.memory\", \"2g\") # Do not change\n",
    "sparkConf.set(\"spark.executor.cores\", \"1\") # Do not change\n",
    "sparkConf.set(\"spark.driver.cores\", \"1\") # Do not change\n",
    "\n",
    "# create the spark session, which is the entry point to Spark SQL engine.\n",
    "spark = SparkSession.builder.config(conf=sparkConf).getOrCreate()\n",
    "\n",
    "# Setup hadoop fs configuration for schema gs://\n",
    "conf = spark.sparkContext._jsc.hadoopConfiguration()\n",
    "conf.set(\"fs.gs.impl\", \"com.google.cloud.hadoop.fs.gcs.GoogleHadoopFileSystem\")\n",
    "conf.set(\"fs.AbstractFileSystem.gs.impl\", \"com.google.cloud.hadoop.fs.gcs.GoogleHadoopFS\")"
   ]
  },
  {
   "cell_type": "markdown",
   "id": "f3b750e1-d1a4-4542-aaf1-9c2eada5db09",
   "metadata": {},
   "source": [
    "### What are the best performaning attacking players of each team?\n",
    "List the top 3 players for each team based on goal contributions"
   ]
  },
  {
   "cell_type": "markdown",
   "id": "8072351d-9072-4289-94a8-d48f24f3a6e7",
   "metadata": {},
   "source": [
    "### Load data from Google Cloud Bucket"
   ]
  },
  {
   "cell_type": "code",
   "execution_count": 3,
   "id": "b50f06b1-b205-443f-bf3c-44cc3173ffdd",
   "metadata": {},
   "outputs": [],
   "source": [
    "# Load data from Google Cloud Storage\n",
    "# Google Storage File Path\n",
    "gsc_root_path = 'gs://data_a2/'  #  Change name to Google Cloud Bucket. Also upload data files first\n",
    "\n",
    "# Load player assists data and create dataframe\n",
    "dataSchema_assits = StructType(\n",
    "        [StructField(\"rank_assists\", IntegerType(), True),\n",
    "         StructField(\"player_name_a\", StringType(), True),\n",
    "         StructField(\"team_name_a\", StringType(), True),\n",
    "         StructField(\"exp_assists\", FloatType(), True),\n",
    "         StructField(\"assists\", FloatType(), True),\n",
    "         StructField(\"minutes_a\", IntegerType(), True),       \n",
    "         StructField(\"matches_a\", IntegerType(), True),\n",
    "         StructField(\"country_a\", StringType(), True)\n",
    "         ])\n",
    "df_player_assists = spark.read.schema(dataSchema_assits).format(\"csv\").option(\"header\", \"true\") \\\n",
    "       .load(gsc_root_path + 'player_expected_assists.csv')\n",
    "\n",
    "# Load player goals data and create dataframe\n",
    "dataSchema_goals = StructType(\n",
    "        [StructField(\"rank_goals\", IntegerType(), True),\n",
    "         StructField(\"player_name_g\", StringType(), True),\n",
    "         StructField(\"team_name_g\", StringType(), True),\n",
    "         StructField(\"exp_goals\", FloatType(), True),\n",
    "         StructField(\"goals\", FloatType(), True),\n",
    "         StructField(\"minutes_g\", IntegerType(), True),       \n",
    "         StructField(\"matches_g\", IntegerType(), True),\n",
    "         StructField(\"country_g\", StringType(), True)\n",
    "         ])\n",
    "df_player_goals = spark.read.schema(dataSchema_goals).format(\"csv\").option(\"header\", \"true\") \\\n",
    "       .load(gsc_root_path + 'player_expected_goals.csv')"
   ]
  },
  {
   "cell_type": "code",
   "execution_count": 4,
   "id": "b08d0e69-066d-443e-be15-28060bd1cfde",
   "metadata": {},
   "outputs": [
    {
     "name": "stdout",
     "output_type": "stream",
     "text": [
      "+------------+------------------+--------------+-----------+-------+---------+---------+---------+\n",
      "|rank_assists|     player_name_a|   team_name_a|exp_assists|assists|minutes_a|matches_a|country_a|\n",
      "+------------+------------------+--------------+-----------+-------+---------+---------+---------+\n",
      "|           1|       Rafael Leao|         Milan|        8.1|    9.0|     2523|       34|      POR|\n",
      "|           2|  Federico Dimarco|Internazionale|        7.5|    6.0|     2105|       30|      ITA|\n",
      "|           3|Albert Gudmundsson|         Genoa|        6.5|    4.0|     3022|       35|      ISL|\n",
      "|           4|   Matteo Politano|        Napoli|        6.0|    7.0|     2384|       37|      ITA|\n",
      "|           5|  Hakan Calhanoglu|Internazionale|        5.8|    3.0|     2576|       32|      TUR|\n",
      "+------------+------------------+--------------+-----------+-------+---------+---------+---------+\n",
      "only showing top 5 rows\n",
      "\n",
      "+----------+----------------+--------------+---------+-----+---------+---------+---------+\n",
      "|rank_goals|   player_name_g|   team_name_g|exp_goals|goals|minutes_g|matches_g|country_g|\n",
      "+----------+----------------+--------------+---------+-----+---------+---------+---------+\n",
      "|         1|Lautaro Martinez|Internazionale|     17.6| 24.0|     2668|       33|      ARG|\n",
      "|         2|  Dusan Vlahovic|      Juventus|     16.7| 16.0|     2317|       33|      SRB|\n",
      "|         3|  Victor Osimhen|        Napoli|     15.4| 15.0|     1990|       25|      NGA|\n",
      "|         4|   Marcus Thuram|Internazionale|     14.4| 13.0|     2707|       35|      FRA|\n",
      "|         5|  Olivier Giroud|         Milan|     14.2| 15.0|     2372|       35|      FRA|\n",
      "+----------+----------------+--------------+---------+-----+---------+---------+---------+\n",
      "only showing top 5 rows\n",
      "\n"
     ]
    }
   ],
   "source": [
    "df_player_assists.show(5)\n",
    "\n",
    "df_player_goals.show(5)"
   ]
  },
  {
   "cell_type": "markdown",
   "id": "6f232620-1ec0-4a17-9a6f-c78e163770fb",
   "metadata": {},
   "source": [
    "### Join dataframes"
   ]
  },
  {
   "cell_type": "code",
   "execution_count": 5,
   "id": "fbc2fc57-153a-4dff-80bd-f6efbe746605",
   "metadata": {},
   "outputs": [
    {
     "name": "stdout",
     "output_type": "stream",
     "text": [
      "+------------+-----------+-------+----------+---------+-----+-------------+-------+-------+-------+---------+\n",
      "|rank_assists|exp_assists|assists|rank_goals|exp_goals|goals|  player_name|minutes|matches|country|team_name|\n",
      "+------------+-----------+-------+----------+---------+-----+-------------+-------+-------+-------+---------+\n",
      "|         116|        1.7|    1.0|       395|      0.2|  0.0|Aaron Caricol|   1380|     22|    ESP|    Genoa|\n",
      "|         149|        1.4|    3.0|       102|      3.1|  3.0|Abdou Harroui|   1025|     18|    NED|Frosinone|\n",
      "|         197|        1.1|    0.0|       347|      0.4|  1.0| Adam Marusic|   3106|     37|    MNE|    Lazio|\n",
      "|         319|        0.4|    0.0|       356|      0.4|  0.0|  Adam Masina|   1083|     20|    MAR|   Torino|\n",
      "|         268|        0.7|    0.0|       422|      0.1|  0.0|   Adam Obert|    940|     17|    SVK| Cagliari|\n",
      "+------------+-----------+-------+----------+---------+-----+-------------+-------+-------+-------+---------+\n",
      "only showing top 5 rows\n",
      "\n"
     ]
    }
   ],
   "source": [
    "# join assists and goals dataframes on player\n",
    "\n",
    "# Join the dataframes on player_name with \"outer\" so that all players from both dataframes are included\n",
    "joinExpression = df_player_assists[\"player_name_a\"] == df_player_goals['player_name_g']\n",
    "df_player = df_player_assists.join(df_player_goals, joinExpression, \"outer\")\n",
    "\n",
    "# Combine common/duplicate columns\n",
    "# Combine player name columns\n",
    "df_player = df_player.withColumn(\"player_name\", coalesce(df_player[\"player_name_a\"], df_player[\"player_name_g\"]))\n",
    "df_player = df_player.drop(\"player_name_a\", \"player_name_g\")\n",
    "# Combine minutes columns\n",
    "df_player = df_player.withColumn(\"minutes\", coalesce(df_player[\"minutes_a\"], df_player[\"minutes_g\"]))\n",
    "df_player = df_player.drop(\"minutes_a\", \"minutes_g\")\n",
    "# Combine matches columns\n",
    "df_player = df_player.withColumn(\"matches\", coalesce(df_player[\"matches_a\"], df_player[\"matches_g\"]))\n",
    "df_player = df_player.drop(\"matches_a\", \"matches_g\")\n",
    "# Combine country columns\n",
    "df_player = df_player.withColumn(\"country\", coalesce(df_player[\"country_a\"], df_player[\"country_g\"]))\n",
    "df_player = df_player.drop(\"country_a\", \"country_g\")\n",
    "# Combine team name columns\n",
    "df_player = df_player.withColumn(\"team_name\", coalesce(df_player[\"team_name_a\"], df_player[\"team_name_g\"]))\n",
    "df_player = df_player.drop(\"team_name_a\", \"team_name_g\")\n",
    "\n",
    "# Fill all NULL values with 0\n",
    "df_player = df_player.na.fill(0)\n",
    "\n",
    "df_player.show(5)"
   ]
  },
  {
   "cell_type": "markdown",
   "id": "fee3b153-4397-4d6b-bec4-c3e77bdfaadb",
   "metadata": {},
   "source": [
    "### Create new columns"
   ]
  },
  {
   "cell_type": "code",
   "execution_count": 6,
   "id": "063e4a5c-2c6b-467d-ac48-ac91e5282f8e",
   "metadata": {},
   "outputs": [
    {
     "name": "stdout",
     "output_type": "stream",
     "text": [
      "+------------+-----------+-------+----------+---------+-----+-------------+-------+-------+-------+---------+------------------+----------------------+----------------------+\n",
      "|rank_assists|exp_assists|assists|rank_goals|exp_goals|goals|  player_name|minutes|matches|country|team_name|goal_contributions|exp_goal_contributions|performance_difference|\n",
      "+------------+-----------+-------+----------+---------+-----+-------------+-------+-------+-------+---------+------------------+----------------------+----------------------+\n",
      "|         116|        1.7|    1.0|       395|      0.2|  0.0|Aaron Caricol|   1380|     22|    ESP|    Genoa|               1.0|             1.9000001|            -0.9000001|\n",
      "|         149|        1.4|    3.0|       102|      3.1|  3.0|Abdou Harroui|   1025|     18|    NED|Frosinone|               6.0|                   4.5|                   1.5|\n",
      "|         197|        1.1|    0.0|       347|      0.4|  1.0| Adam Marusic|   3106|     37|    MNE|    Lazio|               1.0|                   1.5|                  -0.5|\n",
      "|         319|        0.4|    0.0|       356|      0.4|  0.0|  Adam Masina|   1083|     20|    MAR|   Torino|               0.0|                   0.8|                  -0.8|\n",
      "|         268|        0.7|    0.0|       422|      0.1|  0.0|   Adam Obert|    940|     17|    SVK| Cagliari|               0.0|                   0.8|                  -0.8|\n",
      "+------------+-----------+-------+----------+---------+-----+-------------+-------+-------+-------+---------+------------------+----------------------+----------------------+\n",
      "only showing top 5 rows\n",
      "\n"
     ]
    }
   ],
   "source": [
    "# Create a new column of goals + assists\n",
    "df_player = df_player.selectExpr(\n",
    "\"*\",\n",
    "\"(assists + goals) as goal_contributions\")\n",
    "\n",
    "# Create a new column of expected goals + expected assists\n",
    "df_player = df_player.selectExpr(\n",
    "\"*\",\n",
    "\"(exp_assists + exp_goals) as exp_goal_contributions\")\n",
    "\n",
    "# Create a new column of performance compared to the expected performance\n",
    "df_player = df_player.selectExpr(\n",
    "\"*\",\n",
    "\"(goal_contributions - exp_goal_contributions) as performance_difference\")\n",
    "\n",
    "df_player.show(5)"
   ]
  },
  {
   "cell_type": "markdown",
   "id": "222f6b62-6a94-4eba-81a2-ca496bbcf243",
   "metadata": {},
   "source": [
    "### Create dataframe with top 3 of each team"
   ]
  },
  {
   "cell_type": "code",
   "execution_count": 7,
   "id": "5be68b91-1464-400f-b7e7-2db8e97c1296",
   "metadata": {},
   "outputs": [
    {
     "name": "stdout",
     "output_type": "stream",
     "text": [
      "+------------+-----------+-------+----------+---------+-----+--------------------+-------+-------+-------+--------------+------------------+----------------------+----------------------+------------+\n",
      "|rank_assists|exp_assists|assists|rank_goals|exp_goals|goals|         player_name|minutes|matches|country|     team_name|goal_contributions|exp_goal_contributions|performance_difference|rank_in_team|\n",
      "+------------+-----------+-------+----------+---------+-----+--------------------+-------+-------+-------+--------------+------------------+----------------------+----------------------+------------+\n",
      "|          13|        4.8|    7.0|        18|      9.3| 11.0|     Ademola Lookman|   1899|     31|    NGA|      Atalanta|              18.0|                  14.1|             3.8999996|           1|\n",
      "|          25|        4.1|    8.0|        26|      7.3| 10.0|Charles De Ketelaere|   2042|     35|    BEL|      Atalanta|              18.0|                  11.4|             6.6000004|           1|\n",
      "|         134|        1.5|    6.0|        32|      6.5| 12.0|   Gianluca Scamacca|   1459|     29|    ITA|      Atalanta|              18.0|                   8.0|                  10.0|           1|\n",
      "|           9|        5.4|    5.0|        31|      6.6| 12.0|    Teun Koopmeiners|   2633|     34|    NED|      Atalanta|              17.0|                  12.0|                   5.0|           2|\n",
      "|          41|        3.3|    6.0|        27|      7.3|  6.0|       Mario Pasalic|   2048|     34|    CRO|      Atalanta|              12.0|                  10.6|             1.3999996|           3|\n",
      "|          68|        2.5|    4.0|        19|      9.0| 11.0|      Joshua Zirkzee|   2771|     34|    NED|       Bologna|              15.0|                  11.5|                   3.5|           1|\n",
      "|          34|        3.9|    2.0|        24|      7.6| 10.0|   Riccardo Orsolini|   1792|     33|    ITA|       Bologna|              12.0|                  11.5|                   0.5|           2|\n",
      "|          63|        2.7|    3.0|        46|      5.3|  6.0|      Lewis Ferguson|   2718|     31|    SCO|       Bologna|               9.0|                   8.0|                   1.0|           3|\n",
      "|          62|        2.7|    5.0|        68|      4.0|  4.0|        Zito Luvumbo|   1947|     30|    ANG|      Cagliari|               9.0|                   6.7|             2.3000002|           1|\n",
      "|          46|        3.2|    2.0|        93|      3.4|  5.0|       Nicolas Viola|   1202|     26|    ITA|      Cagliari|               7.0|             6.6000004|            0.39999962|           2|\n",
      "|         156|        1.3|    4.0|       139|      2.2|  2.0|     Alberto Dossena|   2979|     35|    ITA|      Cagliari|               6.0|                   3.5|                   2.5|           3|\n",
      "|         187|        1.1|    3.0|        91|      3.5|  3.0|    Eldor Shomurodov|    933|     22|    UZB|      Cagliari|               6.0|                   4.6|             1.4000001|           3|\n",
      "|         202|        1.0|    1.0|       152|      1.9|  5.0|    Gianluca Gaetano|    905|     20|    ITA|      Cagliari|               6.0|                   2.9|                   3.1|           3|\n",
      "|         369|        0.2|    1.0|        42|      5.5|  6.0|        M'Baye Niang|    706|     14|    SEN|        Empoli|               7.0|                   5.7|             1.3000002|           1|\n",
      "|          88|        2.1|    2.0|        61|      4.7|  4.0|  Matteo Cancellieri|   1784|     36|    ITA|        Empoli|               6.0|             6.7999997|            -0.7999997|           2|\n",
      "|         380|        0.2|    0.0|       247|      1.0|  4.0|    Szymon Zurkowski|    871|     13|    POL|        Empoli|               4.0|                   1.2|                   2.8|           3|\n",
      "|          52|        3.1|    2.0|        11|     10.4| 12.0|    Nicolás González|   1913|     29|    ARG|    Fiorentina|              14.0|                  13.5|                   0.5|           1|\n",
      "|          10|        5.4|    3.0|        40|      5.7|  8.0| Giacomo Bonaventura|   2285|     31|    ITA|    Fiorentina|              11.0|                  11.1|           -0.10000038|           2|\n",
      "|         141|        1.5|    2.0|        37|      6.1|  6.0|      Andrea Belotti|   1624|     29|    ITA|    Fiorentina|               8.0|                   7.6|             0.4000001|           3|\n",
      "|         103|        1.9|    2.0|        72|      3.8|  6.0|       Lucas Beltran|   1694|     32|    ARG|    Fiorentina|               8.0|                   5.7|             2.3000002|           3|\n",
      "|          11|        5.3|    3.0|        10|     10.5| 11.0|        Matias Soulé|   3136|     36|    ARG|     Frosinone|              14.0|                  15.8|            -1.8000002|           1|\n",
      "|         258|        0.7|    1.0|        20|      9.0|  7.0|      Walid Cheddira|   2130|     36|    MAR|     Frosinone|               8.0|                   9.7|            -1.6999998|           2|\n",
      "|          73|        2.4|    5.0|       324|      0.5|  2.0|        Nadir Zortea|   1403|     19|    ITA|     Frosinone|               7.0|                   2.9|                   4.1|           3|\n",
      "|           3|        6.5|    4.0|        14|      9.9| 14.0|  Albert Gudmundsson|   3022|     35|    ISL|         Genoa|              18.0|                  16.4|             1.6000004|           1|\n",
      "|         279|        0.6|    2.0|        39|      5.8|  7.0|       Mateo Retegui|   2225|     29|    ITA|         Genoa|               9.0|                   6.4|                   2.6|           2|\n",
      "|         148|        1.4|    5.0|       168|      1.7|  2.0|     Morten Frendrup|   3146|     37|    DEN|         Genoa|               7.0|                   3.1|                   3.9|           3|\n",
      "|          93|        2.0|    3.0|         1|     17.6| 24.0|    Lautaro Martinez|   2668|     33|    ARG|Internazionale|              27.0|                  19.6|             7.3999996|           1|\n",
      "|          36|        3.6|    7.0|         4|     14.4| 13.0|       Marcus Thuram|   2707|     35|    FRA|Internazionale|              20.0|                  18.0|                   2.0|           2|\n",
      "|           5|        5.8|    3.0|        12|     10.2| 13.0|    Hakan Calhanoglu|   2576|     32|    TUR|Internazionale|              16.0|                  16.0|                   0.0|           3|\n",
      "|         120|        1.6|    4.0|         2|     16.7| 16.0|      Dusan Vlahovic|   2317|     33|    SRB|      Juventus|              20.0|             18.300001|             1.6999989|           1|\n",
      "+------------+-----------+-------+----------+---------+-----+--------------------+-------+-------+-------+--------------+------------------+----------------------+----------------------+------------+\n",
      "only showing top 30 rows\n",
      "\n"
     ]
    }
   ],
   "source": [
    "# Order the players on goal contributions per team\n",
    "# Define the window\n",
    "window = Window.partitionBy(col(\"team_name\")).orderBy(col(\"goal_contributions\").desc())\n",
    "\n",
    "# Appply window and add the column of the rank within the team based on goal contributions\n",
    "df_player_windowed = df_player.withColumn(\"rank_in_team\", dense_rank().over(window))\n",
    "\n",
    "# Select only players in top 3 of each team\n",
    "df_player_top3 = df_player_windowed.where(\"rank_in_team <= 3\")\n",
    "\n",
    "df_player_top3.show(30)"
   ]
  },
  {
   "cell_type": "code",
   "execution_count": 8,
   "id": "48c380a8-a53e-4114-b84a-f17f661972e2",
   "metadata": {},
   "outputs": [
    {
     "name": "stdout",
     "output_type": "stream",
     "text": [
      "+----------+--------------------+------------------+----------------------+----------------------+------------+\n",
      "|      team|              player|goal_contributions|exp_goal_contributions|performance_difference|rank_in_team|\n",
      "+----------+--------------------+------------------+----------------------+----------------------+------------+\n",
      "|  Atalanta|     Ademola Lookman|              18.0|                  14.1|             3.8999996|           1|\n",
      "|  Atalanta|Charles De Ketelaere|              18.0|                  11.4|             6.6000004|           1|\n",
      "|  Atalanta|   Gianluca Scamacca|              18.0|                   8.0|                  10.0|           1|\n",
      "|  Atalanta|    Teun Koopmeiners|              17.0|                  12.0|                   5.0|           2|\n",
      "|  Atalanta|       Mario Pasalic|              12.0|                  10.6|             1.3999996|           3|\n",
      "|   Bologna|      Joshua Zirkzee|              15.0|                  11.5|                   3.5|           1|\n",
      "|   Bologna|   Riccardo Orsolini|              12.0|                  11.5|                   0.5|           2|\n",
      "|   Bologna|      Lewis Ferguson|               9.0|                   8.0|                   1.0|           3|\n",
      "|  Cagliari|        Zito Luvumbo|               9.0|                   6.7|             2.3000002|           1|\n",
      "|  Cagliari|       Nicolas Viola|               7.0|             6.6000004|            0.39999962|           2|\n",
      "|  Cagliari|     Alberto Dossena|               6.0|                   3.5|                   2.5|           3|\n",
      "|  Cagliari|    Eldor Shomurodov|               6.0|                   4.6|             1.4000001|           3|\n",
      "|  Cagliari|    Gianluca Gaetano|               6.0|                   2.9|                   3.1|           3|\n",
      "|    Empoli|        M'Baye Niang|               7.0|                   5.7|             1.3000002|           1|\n",
      "|    Empoli|  Matteo Cancellieri|               6.0|             6.7999997|            -0.7999997|           2|\n",
      "|    Empoli|    Szymon Zurkowski|               4.0|                   1.2|                   2.8|           3|\n",
      "|Fiorentina|    Nicolás González|              14.0|                  13.5|                   0.5|           1|\n",
      "|Fiorentina| Giacomo Bonaventura|              11.0|                  11.1|           -0.10000038|           2|\n",
      "|Fiorentina|      Andrea Belotti|               8.0|                   7.6|             0.4000001|           3|\n",
      "|Fiorentina|       Lucas Beltran|               8.0|                   5.7|             2.3000002|           3|\n",
      "+----------+--------------------+------------------+----------------------+----------------------+------------+\n",
      "only showing top 20 rows\n",
      "\n"
     ]
    }
   ],
   "source": [
    "# Create final dataframe for visualization\n",
    "df_final = df_player_top3.select(\"team_name\", \"player_name\", \"goal_contributions\", \"exp_goal_contributions\", \"performance_difference\", \"rank_in_team\")\n",
    "\n",
    "# Rename columns\n",
    "df_final = (df_final\n",
    "            .withColumnRenamed(\"team_name\", \"team\")\n",
    "            .withColumnRenamed(\"player_name\", \"player\")\n",
    "           )\n",
    "\n",
    "df_final.show()"
   ]
  },
  {
   "cell_type": "markdown",
   "id": "58414dfb-ee0b-48d9-8053-17777ffeb96d",
   "metadata": {},
   "source": [
    "### Saving data to BigQuery (Data Sink)"
   ]
  },
  {
   "cell_type": "code",
   "execution_count": 9,
   "id": "1a3c43d2-59f7-40d9-b348-4b9b5d224402",
   "metadata": {},
   "outputs": [],
   "source": [
    "# Google always uses Google Cloud storage to save table and it is then copied to BigQuery\n",
    "# Therefore we need to create a temporary bucket\n",
    "# Use the Cloud Storage bucket for temporary BigQuery export data used by the connector.\n",
    "bucket = \"temp_a2\"  # use your bucket \n",
    "spark.conf.set('temporaryGcsBucket', bucket) # Do not change\n",
    "\n",
    "# Saving the data to BigQuery\n",
    "# BigQuery will create table if there is no table, probably have to try first\n",
    "df_final.write.format('bigquery') \\\n",
    "  .option('table', 'data-engineering-435408.a2_dataset.player_data_offense') \\\n",
    "  .mode(\"overwrite\") \\\n",
    "  .save() "
   ]
  },
  {
   "cell_type": "code",
   "execution_count": 10,
   "id": "4030a338-c77d-4fff-b6c9-bc33b185a3bf",
   "metadata": {},
   "outputs": [],
   "source": [
    "# Stop the spark context\n",
    "spark.stop()"
   ]
  }
 ],
 "metadata": {
  "kernelspec": {
   "display_name": "Python 3 (ipykernel)",
   "language": "python",
   "name": "python3"
  },
  "language_info": {
   "codemirror_mode": {
    "name": "ipython",
    "version": 3
   },
   "file_extension": ".py",
   "mimetype": "text/x-python",
   "name": "python",
   "nbconvert_exporter": "python",
   "pygments_lexer": "ipython3",
   "version": "3.11.6"
  }
 },
 "nbformat": 4,
 "nbformat_minor": 5
}
