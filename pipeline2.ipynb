{
 "cells": [
  {
   "cell_type": "code",
   "execution_count": 2,
   "id": "c59416c1-410d-4d1c-b511-16ef1e45c5bd",
   "metadata": {},
   "outputs": [],
   "source": [
    "# Imports\n",
    "from pyspark.sql.types import StructType, StructField, IntegerType, StringType, FloatType\n",
    "from pyspark.sql import SparkSession\n",
    "from pyspark import SparkConf\n",
    "from pyspark.sql.functions import col, dense_rank, isnull, coalesce, max, rank\n",
    "from pyspark.sql import Row, Window"
   ]
  },
  {
   "cell_type": "code",
   "execution_count": 3,
   "id": "256a06e8-5c19-493f-b597-b21467b7d585",
   "metadata": {},
   "outputs": [],
   "source": [
    "sparkConf = SparkConf()\n",
    "sparkConf.setMaster(\"spark://spark-master:7077\") # Do not change\n",
    "sparkConf.setAppName(\"pipeline_2_app\") # Change to app name\n",
    "sparkConf.set(\"spark.driver.memory\", \"2g\") # Do not change\n",
    "sparkConf.set(\"spark.executor.cores\", \"1\") # Do not change\n",
    "sparkConf.set(\"spark.driver.cores\", \"1\") # Do not change\n",
    "\n",
    "# create the spark session, which is the entry point to Spark SQL engine.\n",
    "spark = SparkSession.builder.config(conf=sparkConf).getOrCreate()\n",
    "\n",
    "# Setup hadoop fs configuration for schema gs://\n",
    "conf = spark.sparkContext._jsc.hadoopConfiguration()\n",
    "conf.set(\"fs.gs.impl\", \"com.google.cloud.hadoop.fs.gcs.GoogleHadoopFileSystem\")\n",
    "conf.set(\"fs.AbstractFileSystem.gs.impl\", \"com.google.cloud.hadoop.fs.gcs.GoogleHadoopFS\")"
   ]
  },
  {
   "cell_type": "markdown",
   "id": "ad44ce8b-869d-4d72-af60-0608326a158b",
   "metadata": {},
   "source": [
    "### Who are the best-performing defensive players?\n",
    "Get the average rank based on different defensive statistics ranks."
   ]
  },
  {
   "cell_type": "markdown",
   "id": "c6b8a4c5-dc1b-4018-93aa-8770ab53a1e1",
   "metadata": {},
   "source": [
    "### Load data from Google Cloud Bucket"
   ]
  },
  {
   "cell_type": "code",
   "execution_count": 4,
   "id": "5f618df5-eadb-43ff-abc6-a89409b38291",
   "metadata": {},
   "outputs": [],
   "source": [
    "# Load data from Google Cloud Storage\n",
    "# Google Storage File Path\n",
    "gsc_root_path = 'gs://data_a2/'  #  Change name to Google Cloud Bucket. Also upload data files first\n",
    "\n",
    "# Load player clearances data and create dataframe\n",
    "dataSchema_clearances = StructType(\n",
    "        [StructField(\"rank_clearances\", IntegerType(), True),\n",
    "         StructField(\"player_name_c\", StringType(), True),\n",
    "         StructField(\"team_name_c\", StringType(), True),\n",
    "         StructField(\"clearances_per90\", FloatType(), True),\n",
    "         StructField(\"total_clearances\", FloatType(), True),\n",
    "         StructField(\"minutes_c\", IntegerType(), True),       \n",
    "         StructField(\"matches_c\", IntegerType(), True),\n",
    "         StructField(\"country_c\", StringType(), True)\n",
    "         ])\n",
    "df_player_clearances = spark.read.schema(dataSchema_clearances).format(\"csv\").option(\"header\", \"true\") \\\n",
    "       .load(gsc_root_path + 'player_effective_clearances.csv')\n",
    "\n",
    "# Load player interceptions data and create dataframe\n",
    "dataSchema_interceptions = StructType(\n",
    "        [StructField(\"rank_interceptions\", IntegerType(), True),\n",
    "         StructField(\"player_name_i\", StringType(), True),\n",
    "         StructField(\"team_name_i\", StringType(), True),\n",
    "         StructField(\"interceptions_per90\", FloatType(), True),\n",
    "         StructField(\"total_interceptions\", FloatType(), True),\n",
    "         StructField(\"minutes_i\", IntegerType(), True),       \n",
    "         StructField(\"matches_i\", IntegerType(), True),\n",
    "         StructField(\"country_i\", StringType(), True)\n",
    "         ])\n",
    "df_player_interceptions = spark.read.schema(dataSchema_interceptions).format(\"csv\").option(\"header\", \"true\") \\\n",
    "       .load(gsc_root_path + 'player_interceptions.csv')\n",
    "\n",
    "# Load player tackles data and create dataframe\n",
    "dataSchema_tackles = StructType(\n",
    "        [StructField(\"rank_tackles\", IntegerType(), True),\n",
    "         StructField(\"player_name_t\", StringType(), True),\n",
    "         StructField(\"team_name_t\", StringType(), True),\n",
    "         StructField(\"tackles_per90\", FloatType(), True),\n",
    "         StructField(\"tackle_succes_rate\", FloatType(), True),\n",
    "         StructField(\"minutes_t\", IntegerType(), True),       \n",
    "         StructField(\"matches_t\", IntegerType(), True),\n",
    "         StructField(\"country_t\", StringType(), True)\n",
    "         ])\n",
    "df_player_tackles = spark.read.schema(dataSchema_tackles).format(\"csv\").option(\"header\", \"true\") \\\n",
    "       .load(gsc_root_path + 'player_tackles_won.csv')\n"
   ]
  },
  {
   "cell_type": "code",
   "execution_count": 5,
   "id": "c6d19866-a739-49e7-a1c6-5e130ebc5cbf",
   "metadata": {},
   "outputs": [
    {
     "name": "stdout",
     "output_type": "stream",
     "text": [
      "+---------------+--------------------+-----------+----------------+----------------+---------+---------+---------+\n",
      "|rank_clearances|       player_name_c|team_name_c|clearances_per90|total_clearances|minutes_c|matches_c|country_c|\n",
      "+---------------+--------------------+-----------+----------------+----------------+---------+---------+---------+\n",
      "|              1|          Jaka Bijol|    Udinese|             5.9|           137.0|     2083|       24|      SVN|\n",
      "|              2|Sebastian Walukie...|     Empoli|             5.3|           120.0|     2054|       27|      POL|\n",
      "|              3|      Ardian Ismajli|     Empoli|             5.2|           119.0|     2046|       26|      ALB|\n",
      "|              4|     Alberto Dossena|   Cagliari|             5.1|           168.0|     2979|       35|      ITA|\n",
      "|              5|   Thomas Kristensen|    Udinese|             4.8|           112.0|     2097|       26|      DEN|\n",
      "+---------------+--------------------+-----------+----------------+----------------+---------+---------+---------+\n",
      "only showing top 5 rows\n",
      "\n",
      "+------------------+--------------------+-----------+-------------------+-------------------+---------+---------+---------+\n",
      "|rank_interceptions|       player_name_i|team_name_i|interceptions_per90|total_interceptions|minutes_i|matches_i|country_i|\n",
      "+------------------+--------------------+-----------+-------------------+-------------------+---------+---------+---------+\n",
      "|                 1|Alessandro Buongi...|     Torino|                2.5|               69.0|     2530|       29|      ITA|\n",
      "|                 2|Alessandro Vogliacco|      Genoa|                2.3|               30.0|     1171|       20|      ITA|\n",
      "|                 3|    Giorgio Scalvini|   Atalanta|                2.1|               59.0|     2553|       33|      ITA|\n",
      "|                 4|       Adrien Tamèze|     Torino|                2.0|               47.0|     2154|       29|      FRA|\n",
      "|                 5|      Alberto Grassi|     Empoli|                2.0|               41.0|     1823|       27|      ITA|\n",
      "+------------------+--------------------+-----------+-------------------+-------------------+---------+---------+---------+\n",
      "only showing top 5 rows\n",
      "\n",
      "+------------+----------------+-----------+-------------+------------------+---------+---------+---------+\n",
      "|rank_tackles|   player_name_t|team_name_t|tackles_per90|tackle_succes_rate|minutes_t|matches_t|country_t|\n",
      "+------------+----------------+-----------+-------------+------------------+---------+---------+---------+\n",
      "|           1|     Hamza Rafia|      Lecce|          2.3|              70.5|     1211|       28|      TUN|\n",
      "|           2|     Suat Serdar|     Verona|          2.1|              76.5|     1661|       25|      GER|\n",
      "|           3|   Joao Ferreira|    Udinese|          2.1|              72.4|     1812|       35|      POR|\n",
      "|           4|   Daichi Kamada|      Lazio|          2.1|              67.9|     1543|       29|      JPN|\n",
      "|           5|Jens-Lys Cajuste|     Napoli|          2.1|              66.7|     1007|       26|      SWE|\n",
      "+------------+----------------+-----------+-------------+------------------+---------+---------+---------+\n",
      "only showing top 5 rows\n",
      "\n"
     ]
    }
   ],
   "source": [
    "# Show dataframes\n",
    "df_player_clearances.show(5)\n",
    "df_player_interceptions.show(5)\n",
    "df_player_tackles.show(5)"
   ]
  },
  {
   "cell_type": "markdown",
   "id": "209e471b-7d07-45c2-ae99-08d8af92108f",
   "metadata": {},
   "source": [
    "### Join dataframes\n",
    "First join clearances and interceptions data, and then add tackles data."
   ]
  },
  {
   "cell_type": "markdown",
   "id": "0478efce-536e-4ef0-9854-b2395a40f260",
   "metadata": {},
   "source": [
    "There are players that  have switched clubs during the course of the season, that's why the team name is different in the dataframes. <br>\n",
    "We will select the team the player ended the season with as the team_name as this is the most recent data, this corresponds with the data in the clearances dataframe. <br>"
   ]
  },
  {
   "cell_type": "code",
   "execution_count": 6,
   "id": "21209fe8-f7a0-468d-8815-9036b70fffcf",
   "metadata": {},
   "outputs": [
    {
     "name": "stdout",
     "output_type": "stream",
     "text": [
      "first join done\n",
      "Combining columns done.\n",
      "+---------------+----------------+----------------+------------------+-------------------+-------------------+---------------+----------+----------+----------+------------+\n",
      "|rank_clearances|clearances_per90|total_clearances|rank_interceptions|interceptions_per90|total_interceptions| player_name_ci|minutes_ci|matches_ci|country_ci|team_name_ci|\n",
      "+---------------+----------------+----------------+------------------+-------------------+-------------------+---------------+----------+----------+----------+------------+\n",
      "|            228|             0.8|            13.0|               179|                0.6|                9.0|  Aaron Caricol|      1380|        22|       ESP|       Genoa|\n",
      "|            103|             1.7|            58.0|               113|                0.8|               29.0|   Adam Marusic|      3106|        37|       MNE|       Lazio|\n",
      "|             48|             2.9|            35.0|                64|                1.1|               13.0|    Adam Masina|      1083|        20|       MAR|      Torino|\n",
      "|           NULL|            NULL|            NULL|               220|                0.4|                9.0|Ademola Lookman|      1899|        31|       NGA|    Atalanta|\n",
      "|            182|             1.0|            29.0|               115|                0.8|               25.0|  Adrien Rabiot|      2651|        31|       FRA|    Juventus|\n",
      "+---------------+----------------+----------------+------------------+-------------------+-------------------+---------------+----------+----------+----------+------------+\n",
      "only showing top 5 rows\n",
      "\n"
     ]
    }
   ],
   "source": [
    "# Create combined dataframe\n",
    "# First drop duplicate columns\n",
    "#df_player_goals = df_player_goals.drop(\"matches\", \"minutes\", \"team_name\", \"country\")\n",
    "\n",
    "# Join the clearances and interceptions dataframes\n",
    "joinExpression1 = df_player_clearances[\"player_name_c\"] == df_player_interceptions['player_name_i']\n",
    "df_player = df_player_clearances.join(df_player_interceptions, joinExpression1, \"outer\")\n",
    "print(\"first join done\")\n",
    "\n",
    "# Combine common/duplicate columns\n",
    "# Combine player name columns\n",
    "df_player = df_player.withColumn(\"player_name_ci\", coalesce(df_player[\"player_name_c\"], df_player[\"player_name_i\"]))\n",
    "df_player = df_player.drop(\"player_name_c\", \"player_name_i\")\n",
    "# Combine minutes columns\n",
    "df_player = df_player.withColumn(\"minutes_ci\", coalesce(df_player[\"minutes_c\"], df_player[\"minutes_i\"]))\n",
    "df_player = df_player.drop(\"minutes_c\", \"minutes_i\")\n",
    "# Combine matches columns\n",
    "df_player = df_player.withColumn(\"matches_ci\", coalesce(df_player[\"matches_c\"], df_player[\"matches_i\"]))\n",
    "df_player = df_player.drop(\"matches_c\", \"matches_i\")\n",
    "# Combine country columns\n",
    "df_player = df_player.withColumn(\"country_ci\", coalesce(df_player[\"country_c\"], df_player[\"country_i\"]))\n",
    "df_player = df_player.drop(\"country_c\", \"country_i\")\n",
    "# Combine team name columns\n",
    "df_player = df_player.withColumn(\"team_name_ci\", coalesce(df_player[\"team_name_c\"], df_player[\"team_name_i\"]))\n",
    "df_player = df_player.drop(\"team_name_c\", \"team_name_i\")\n",
    "print(\"Combining columns done.\") # Print that this task is done\n",
    "\n",
    "# Show result\n",
    "df_player.show(5)"
   ]
  },
  {
   "cell_type": "code",
   "execution_count": 7,
   "id": "06af3a30-06a2-4246-b356-0afc9629be4c",
   "metadata": {},
   "outputs": [
    {
     "name": "stdout",
     "output_type": "stream",
     "text": [
      "Second join done.\n",
      "Combining columns done.\n",
      "+---------------+----------------+----------------+------------------+-------------------+-------------------+------------+-------------+------------------+---------------+-------+-------+-------+---------+\n",
      "|rank_clearances|clearances_per90|total_clearances|rank_interceptions|interceptions_per90|total_interceptions|rank_tackles|tackles_per90|tackle_succes_rate|    player_name|minutes|matches|country|team_name|\n",
      "+---------------+----------------+----------------+------------------+-------------------+-------------------+------------+-------------+------------------+---------------+-------+-------+-------+---------+\n",
      "|            228|             0.8|            13.0|               179|                0.6|                9.0|         222|          0.7|              47.6|  Aaron Caricol|   1380|     22|    ESP|    Genoa|\n",
      "|            103|             1.7|            58.0|               113|                0.8|               29.0|         148|          0.9|              68.9|   Adam Marusic|   3106|     37|    MNE|    Lazio|\n",
      "|             48|             2.9|            35.0|                64|                1.1|               13.0|         137|          1.0|              57.1|    Adam Masina|   1083|     20|    MAR|   Torino|\n",
      "|           NULL|            NULL|            NULL|               220|                0.4|                9.0|         197|          0.7|              75.0|Ademola Lookman|   1899|     31|    NGA| Atalanta|\n",
      "|            182|             1.0|            29.0|               115|                0.8|               25.0|          53|          1.3|              67.2|  Adrien Rabiot|   2651|     31|    FRA| Juventus|\n",
      "+---------------+----------------+----------------+------------------+-------------------+-------------------+------------+-------------+------------------+---------------+-------+-------+-------+---------+\n",
      "only showing top 5 rows\n",
      "\n"
     ]
    }
   ],
   "source": [
    "# Join the df_player and tackle dataframes\n",
    "joinExpression1 = df_player[\"player_name_ci\"] == df_player_tackles['player_name_t']\n",
    "df_player2 = df_player.join(df_player_tackles, joinExpression1, \"outer\")\n",
    "print(\"Second join done.\")\n",
    "\n",
    "# Combine common/duplicate columns\n",
    "# Combine player name columns\n",
    "df_player2 = df_player2.withColumn(\"player_name\", coalesce(df_player2[\"player_name_ci\"], df_player2[\"player_name_t\"]))\n",
    "df_player2 = df_player2.drop(\"player_name_ci\", \"player_name_t\")\n",
    "# Combine minutes columns\n",
    "df_player2 = df_player2.withColumn(\"minutes\", coalesce(df_player2[\"minutes_ci\"], df_player2[\"minutes_t\"]))\n",
    "df_player2 = df_player2.drop(\"minutes_ci\", \"minutes_t\")\n",
    "# Combine matches columns\n",
    "df_player2 = df_player2.withColumn(\"matches\", coalesce(df_player2[\"matches_ci\"], df_player2[\"matches_t\"]))\n",
    "df_player2 = df_player2.drop(\"matches_ci\", \"matches_t\")\n",
    "# Combine country columns\n",
    "df_player2 = df_player2.withColumn(\"country\", coalesce(df_player2[\"country_ci\"], df_player2[\"country_t\"]))\n",
    "df_player2 = df_player2.drop(\"country_ci\", \"country_t\")\n",
    "# Combine team name columns\n",
    "df_player2 = df_player2.withColumn(\"team_name\", coalesce(df_player2[\"team_name_ci\"], df_player2[\"team_name_t\"]))\n",
    "df_player2 = df_player2.drop(\"team_name_ci\", \"team_name_t\")\n",
    "print(\"Combining columns done.\") # Print that this task is done\n",
    "\n",
    "# Show result\n",
    "df_player2.show(5)"
   ]
  },
  {
   "cell_type": "markdown",
   "id": "c8780c74-5ed6-452b-8bd6-b29a9de3a8c5",
   "metadata": {},
   "source": [
    "### Fill NULL values \n",
    "Fill NULL values in statistics with 0 as these players have no registered instances of these actions. <br>\n",
    "Fill NULL ranks with the maximum rank plus 1 as these players are all ranked last for this statistic."
   ]
  },
  {
   "cell_type": "code",
   "execution_count": 8,
   "id": "0efdcc57-e834-49d3-8f66-4bb513685108",
   "metadata": {},
   "outputs": [
    {
     "name": "stdout",
     "output_type": "stream",
     "text": [
      "+---------------+----------------+----------------+------------------+-------------------+-------------------+------------+-------------+------------------+---------------+-------+-------+-------+---------+\n",
      "|rank_clearances|clearances_per90|total_clearances|rank_interceptions|interceptions_per90|total_interceptions|rank_tackles|tackles_per90|tackle_succes_rate|    player_name|minutes|matches|country|team_name|\n",
      "+---------------+----------------+----------------+------------------+-------------------+-------------------+------------+-------------+------------------+---------------+-------+-------+-------+---------+\n",
      "|            228|             0.8|            13.0|               179|                0.6|                9.0|         222|          0.7|              47.6|  Aaron Caricol|   1380|     22|    ESP|    Genoa|\n",
      "|            103|             1.7|            58.0|               113|                0.8|               29.0|         148|          0.9|              68.9|   Adam Marusic|   3106|     37|    MNE|    Lazio|\n",
      "|             48|             2.9|            35.0|                64|                1.1|               13.0|         137|          1.0|              57.1|    Adam Masina|   1083|     20|    MAR|   Torino|\n",
      "|            340|             0.0|             0.0|               220|                0.4|                9.0|         197|          0.7|              75.0|Ademola Lookman|   1899|     31|    NGA| Atalanta|\n",
      "|            182|             1.0|            29.0|               115|                0.8|               25.0|          53|          1.3|              67.2|  Adrien Rabiot|   2651|     31|    FRA| Juventus|\n",
      "+---------------+----------------+----------------+------------------+-------------------+-------------------+------------+-------------+------------------+---------------+-------+-------+-------+---------+\n",
      "only showing top 5 rows\n",
      "\n"
     ]
    }
   ],
   "source": [
    "# Fill NULL values with 0 for the statistics as these players have no registered instances of these actions\n",
    "# Initiate list with columns that should be filled\n",
    "columns_to_fill = [\"clearances_per90\", \"total_clearances\", \"interceptions_per90\", \"total_interceptions\", \"tackles_per90\"] \n",
    "# Fill columns with 0\n",
    "df_player2 = df_player2.na.fill(0, subset=columns_to_fill)\n",
    "\n",
    "# Remove players with less than 10 matches played, to ensure the statistics are computed over enough games\n",
    "df_player2 = df_player2.where(\"matches >= 10\")\n",
    "\n",
    "# Find maximum rank per statistic and add 1 to each\n",
    "max_rank_clearances = df_player2.select(max(\"rank_clearances\")).collect()[0][0] + 1\n",
    "max_rank_interceptions = df_player2.select(max(\"rank_interceptions\")).collect()[0][0] + 1\n",
    "max_rank_tackles = df_player2.select(max(\"rank_tackles\")).collect()[0][0] + 1\n",
    "\n",
    "# Set all NULL values for each rank to the max rank \n",
    "fill_cols_vals = {\"rank_clearances\": max_rank_clearances, \"rank_interceptions\" : max_rank_interceptions, \"rank_tackles\" : max_rank_tackles}\n",
    "df_player2 = df_player2.na.fill(fill_cols_vals)\n",
    "\n",
    "# Show result\n",
    "df_player2.show(5)"
   ]
  },
  {
   "cell_type": "markdown",
   "id": "a5916759-bd1c-4937-a087-d53d5d5c0ae5",
   "metadata": {},
   "source": [
    "### Compute average rank "
   ]
  },
  {
   "cell_type": "code",
   "execution_count": 9,
   "id": "9214f1be-371a-428b-91c5-095d4c68b27e",
   "metadata": {},
   "outputs": [
    {
     "name": "stdout",
     "output_type": "stream",
     "text": [
      "+---------------+----------------+----------------+------------------+-------------------+-------------------+------------+-------------+------------------+----------------+-------+-------+-------+---------+------------------+------------+------------+\n",
      "|rank_clearances|clearances_per90|total_clearances|rank_interceptions|interceptions_per90|total_interceptions|rank_tackles|tackles_per90|tackle_succes_rate|     player_name|minutes|matches|country|team_name|          avg_rank|rank_defense|rank_in_team|\n",
      "+---------------+----------------+----------------+------------------+-------------------+-------------------+------------+-------------+------------------+----------------+-------+-------+-------+---------+------------------+------------+------------+\n",
      "|             71|             2.3|            66.0|                 3|                2.1|               59.0|          81|          1.2|              62.3|Giorgio Scalvini|   2553|     33|    ITA| Atalanta|51.666666666666664|          15|           1|\n",
      "|            105|             1.7|            49.0|                22|                1.4|               40.0|          30|          1.5|              53.8|  Marten de Roon|   2599|     30|    NED| Atalanta|52.333333333333336|          16|           2|\n",
      "|             36|             3.2|            63.0|                54|                1.1|               21.0|          96|          1.1|              62.9|       Isak Hien|   1794|     26|    SWE| Atalanta|              62.0|          28|           3|\n",
      "|             39|             3.1|            98.0|                 8|                1.8|               57.0|         182|          0.8|              57.1|  Berat Djimsiti|   2831|     37|    ALB| Atalanta| 76.33333333333333|          45|           4|\n",
      "|             93|             1.9|            46.0|               103|                0.9|               21.0|          48|          1.3|              72.7|  Sead Kolasinac|   2182|     30|    BIH| Atalanta| 81.33333333333333|          56|           5|\n",
      "+---------------+----------------+----------------+------------------+-------------------+-------------------+------------+-------------+------------------+----------------+-------+-------+-------+---------+------------------+------------+------------+\n",
      "only showing top 5 rows\n",
      "\n"
     ]
    }
   ],
   "source": [
    "# Comput average rank for each player\n",
    "# Create a new column of goals + assists\n",
    "df_player2 = df_player2.selectExpr(\n",
    "\"*\",\n",
    "\"((rank_clearances + rank_interceptions + rank_tackles) / 3) as avg_rank\")\n",
    "\n",
    "# Define a window specification ordering by the average_rank column\n",
    "window_spec1 = Window.orderBy(\"avg_rank\")\n",
    "\n",
    "# Add a new column rank_defense using the rank() function\n",
    "df_player2 = df_player2.withColumn(\"rank_defense\", rank().over(window_spec1))\n",
    "\n",
    "# Define the window\n",
    "window_spec2 = Window.partitionBy(col(\"team_name\")).orderBy(col(\"rank_defense\").asc())\n",
    "\n",
    "# Appply window and add the column of the rank within the team based on goal contributions\n",
    "df_player2 = df_player2.withColumn(\"rank_in_team\", dense_rank().over(window_spec2))\n",
    "\n",
    "df_player2.show(5)"
   ]
  },
  {
   "cell_type": "code",
   "execution_count": 10,
   "id": "4c2d5e69-b53d-4f47-8f7b-7bc86337b518",
   "metadata": {},
   "outputs": [
    {
     "name": "stdout",
     "output_type": "stream",
     "text": [
      "+--------------+----------------+--------+-----------------+--------------------+--------------+-------+------------+\n",
      "|rank_in_league|          player|    team|clearances_per_90|interceptions_per_90|tackles_per_90|minutes|rank_in_team|\n",
      "+--------------+----------------+--------+-----------------+--------------------+--------------+-------+------------+\n",
      "|            15|Giorgio Scalvini|Atalanta|              2.3|                 2.1|           1.2|   2553|           1|\n",
      "|            16|  Marten de Roon|Atalanta|              1.7|                 1.4|           1.5|   2599|           2|\n",
      "|            28|       Isak Hien|Atalanta|              3.2|                 1.1|           1.1|   1794|           3|\n",
      "|            45|  Berat Djimsiti|Atalanta|              3.1|                 1.8|           0.8|   2831|           4|\n",
      "|            56|  Sead Kolasinac|Atalanta|              1.9|                 0.9|           1.3|   2182|           5|\n",
      "+--------------+----------------+--------+-----------------+--------------------+--------------+-------+------------+\n",
      "only showing top 5 rows\n",
      "\n"
     ]
    }
   ],
   "source": [
    "# Create final dataframe for visualization\n",
    "df_final = df_player2.select(\"rank_defense\", \"player_name\", \"team_name\", \"clearances_per90\", \"interceptions_per90\", \"tackles_per90\", \"minutes\", \"rank_in_team\")\n",
    "\n",
    "# Rename columns\n",
    "df_final = (df_final\n",
    "            .withColumnRenamed(\"rank_defense\", \"rank_in_league\")\n",
    "            .withColumnRenamed(\"player_name\", \"player\")\n",
    "            .withColumnRenamed(\"team_name\", \"team\")\n",
    "            .withColumnRenamed(\"clearances_per90\", \"clearances_per_90\")\n",
    "            .withColumnRenamed(\"interceptions_per90\", \"interceptions_per_90\")\n",
    "            .withColumnRenamed(\"tackles_per90\", \"tackles_per_90\")\n",
    "            .withColumnRenamed(\"rank_in_team\", \"rank_in_team\")\n",
    "           )\n",
    "\n",
    "df_final.show(5)"
   ]
  },
  {
   "cell_type": "markdown",
   "id": "0ec70034-071e-4043-be16-973e4f3844c3",
   "metadata": {},
   "source": [
    "### Saving data to BigQuery (Data Sink)"
   ]
  },
  {
   "cell_type": "code",
   "execution_count": 31,
   "id": "464a5865-9ce0-4e6c-8999-ef24f2faef42",
   "metadata": {},
   "outputs": [],
   "source": [
    "# Google always uses Google Cloud storage to save table and it is then copied to BigQuery\n",
    "# Therefore we need to create a temporary bucket\n",
    "# Use the Cloud Storage bucket for temporary BigQuery export data used by the connector.\n",
    "bucket = \"temp_a2\"  # use your bucket \n",
    "spark.conf.set('temporaryGcsBucket', bucket) # Do not change\n",
    "\n",
    "# Saving the data to BigQuery\n",
    "# BigQuery will create table if there is no table, probably have to try first\n",
    "df_final.write.format('bigquery') \\\n",
    "  .option('table', 'data-engineering-435408.a2_dataset.player_data_defense') \\\n",
    "  .mode(\"overwrite\") \\\n",
    "  .save() "
   ]
  },
  {
   "cell_type": "code",
   "execution_count": 11,
   "id": "4030a338-c77d-4fff-b6c9-bc33b185a3bf",
   "metadata": {},
   "outputs": [],
   "source": [
    "# Stop the spark context\n",
    "spark.stop()"
   ]
  },
  {
   "cell_type": "code",
   "execution_count": null,
   "id": "656f7eff-f9a9-4869-a739-00d00ca3e3ac",
   "metadata": {},
   "outputs": [],
   "source": []
  }
 ],
 "metadata": {
  "kernelspec": {
   "display_name": "Python 3 (ipykernel)",
   "language": "python",
   "name": "python3"
  },
  "language_info": {
   "codemirror_mode": {
    "name": "ipython",
    "version": 3
   },
   "file_extension": ".py",
   "mimetype": "text/x-python",
   "name": "python",
   "nbconvert_exporter": "python",
   "pygments_lexer": "ipython3",
   "version": "3.11.6"
  }
 },
 "nbformat": 4,
 "nbformat_minor": 5
}
